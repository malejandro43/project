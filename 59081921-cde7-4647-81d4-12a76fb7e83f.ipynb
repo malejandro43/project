{
 "cells": [
  {
   "cell_type": "markdown",
   "metadata": {
    "id": "2RRWlgp0AuLD",
    "tags": [
     "17aa38ef-2a73-4b18-9d71-f72cd4e12b42"
    ]
   },
   "source": [
    "Mejoremos nuestra práctica del capítulo anterior y resolvamos algunas tareas más del Banco ABC.\n",
    "\n",
    "El banco analizó la lista de sus clientes y encontró más clientes de interés para prestar servicios bancarios privilegiados. Se agregaron a nuestra lista anterior.\n",
    "\n",
    "```python\n",
    "clients = [\n",
    "    [32456, \"Jack Wilson\", 32, 150000, \"Healthcare\"],\n",
    "    [34591, \"Nina Brown\", 45, 250000, \"Telecom\"],\n",
    "    [37512, \"Alex Smith\", 39, 210000, \"IT\"],\n",
    "    [39591, \"Brian Perez\", 29, 340000, \"Transportation\"],\n",
    "    [45123, \"Sarah Lee\", 28, 120000, \"Marketing\"],\n",
    "    [47635, \"David Kim\", 36, 180000, \"Finance\"],\n",
    "    [49571, \"Samantha Chen\", 42, 220000, \"Retail\"],\n",
    "    [50391, \"Juan Rodriguez\", 31, 160000, \"Architecture\"],\n",
    "]\n",
    "\n",
    "```"
   ]
  },
  {
   "cell_type": "markdown",
   "metadata": {
    "id": "wQvLvE-RAwLx"
   },
   "source": [
    "### Ejercicio 1\n",
    "\n",
    "Los departamentos de seguridad del banco no quedaron satisfechos con la forma en la que presentamos la lista de clientes la última vez. Esta vez nos pidieron que proporcionáramos los nombres de los clientes imprimiendo cada nombre en una línea separada.\n",
    "\n",
    "Haz un bucle en la lista de clientes y muestra sus nombres."
   ]
  },
  {
   "cell_type": "code",
   "execution_count": null,
   "metadata": {
    "id": "z_MYuFnoApK1"
   },
   "outputs": [
    {
     "data": {
      "text/plain": [
       "Jack Wilson\n",
       "Nina Brown\n",
       "Alex Smith\n",
       "Brian Perez\n",
       "Sarah Lee\n",
       "David Kim\n",
       "Samantha Chen\n",
       "Juan Rodriguez\n"
      ]
     },
     "metadata": {},
     "output_type": "display_data"
    }
   ],
   "source": [
    "clients = [\n",
    "    [32456, \"Jack Wilson\", 32, 150000, \"Healthcare\"],\n",
    "    [34591, \"Nina Brown\", 45, 250000, \"Telecom\"],\n",
    "    [37512, \"Alex Smith\", 39, 210000, \"IT\"],\n",
    "    [39591, \"Brian Perez\", 29, 340000, \"Transportation\"],\n",
    "    [45123, \"Sarah Lee\", 28, 120000, \"Marketing\"],\n",
    "    [47635, \"David Kim\", 36, 180000, \"Finance\"],\n",
    "    [49571, \"Samantha Chen\", 42, 220000, \"Retail\"],\n",
    "    [50391, \"Juan Rodriguez\", 31, 160000, \"Architecture\"],\n",
    "]\n",
    "\n",
    "# escribe tu código aquí\n",
    "for variable in clients:\n",
    "    print(variable[1])"
   ]
  },
  {
   "cell_type": "markdown",
   "metadata": {
    "id": "OgwPdYXaAvTi"
   },
   "source": [
    "### Ejercicio 2\n",
    "\n",
    "El departamento de marketing del Banco ABC está interesado en conocer la edad promedio de su clientela. La edad promedio es simplemente la suma de las edades de todos los clientes dividida entre la cantidad de clientes. Utiliza el bucle for para iterar sobre la lista `clients` y actualiza las variables `total_age` y `num_clients` en cada iteración del bucle.\n",
    "\n",
    "La variable `total_age` debe almacenar la suma de edades, mientras que la variable `num_clients` se usa para almacenar el número total de clientes.\n",
    "\n",
    "Las variables `total_age` y `num_clients` ya están declaradas para que hagas tus cálculos con ellas. Tras recorrer la lista y actualizar estas dos variables, calcula la edad promedio de todos los clientes, almacénala en la variable `average_age` y muéstrala."
   ]
  },
  {
   "cell_type": "code",
   "execution_count": null,
   "metadata": {
    "id": "B4m4rN6QA9Jn"
   },
   "outputs": [
    {
     "data": {
      "text/plain": [
       "35.25\n"
      ]
     },
     "metadata": {},
     "output_type": "display_data"
    }
   ],
   "source": [
    "clients = [\n",
    "    [32456, \"Jack Wilson\", 32, 150000, \"Healthcare\"],\n",
    "    [34591, \"Nina Brown\", 45, 250000, \"Telecom\"],\n",
    "    [37512, \"Alex Smith\", 39, 210000, \"IT\"],\n",
    "    [39591, \"Brian Perez\", 29, 340000, \"Transportation\"],\n",
    "    [45123, \"Sarah Lee\", 28, 120000, \"Marketing\"],\n",
    "    [47635, \"David Kim\", 36, 180000, \"Finance\"],\n",
    "    [49571, \"Samantha Chen\", 42, 220000, \"Retail\"],\n",
    "    [50391, \"Juan Rodriguez\", 31, 160000, \"Architecture\"]\n",
    "]\n",
    "\n",
    "total_age = 0\n",
    "num_clients = 0\n",
    "average_age=0\n",
    "for variable in clients:\n",
    "    num_clients+=1\n",
    "    total_age+=variable[2]\n",
    "average_age=total_age/num_clients\n",
    "print(average_age)\n",
    "\n",
    "# escribe tu código aquí\n",
    "\n"
   ]
  },
  {
   "cell_type": "markdown",
   "metadata": {
    "id": "YMN6MlkiA-yt"
   },
   "source": [
    "### Ejercicio 3\n",
    "\n",
    "La gerencia está interesada en saber cuándo un cliente alcanza un millón en ingresos totales y te pidieron que escribieras un código que calcule la cantidad de años que necesita un cliente para alcanzar este número. Para empezar, te pidieron que probaras tu código para `'Jack Wilson'`, que gana `150000` al año. Escribe un bucle `while` que sume los ingresos anuales totales de Jack hasta que llegue a un millón. Una vez que lo alcance, muestra el número de años que tardó en alcanzar este ingreso total."
   ]
  },
  {
   "cell_type": "code",
   "execution_count": null,
   "metadata": {
    "id": "UevmiU_GBAy2"
   },
   "outputs": [
    {
     "data": {
      "text/plain": [
       "7\n"
      ]
     },
     "metadata": {},
     "output_type": "display_data"
    }
   ],
   "source": [
    "annual_income = 150000 # ingreso anual de Jack\n",
    "target_income = 1000000 # ingreso objetivo\n",
    "\n",
    "total_income_sum = 0 # ingresos totales que se actualizarán para cada año\n",
    "years_to_million = 0 # cantidad de años que también se actualizará\n",
    "\n",
    "while total_income_sum < target_income:\n",
    "    total_income_sum += annual_income# escribe tu código aquí\n",
    "    years_to_million +=1 # escribe tu código aquí\n",
    "\n",
    "print(years_to_million)"
   ]
  },
  {
   "cell_type": "markdown",
   "metadata": {
    "id": "nYy8sS3CBCF2"
   },
   "source": [
    "### Ejercicio 4\n",
    "\n",
    "El Banco ABC ha presentado una nueva cuenta Elite diseñada para clientes y clientas de alto poder adquisitivo que ganan más de `$200 000` al año. Escribe código para iterar sobre los clientes, comprueba que sus ingresos anuales superen los `$200 000` y agrega la sublista sobre un cliente elegible a la variable `elite_clients`, que es una lista de clientes ricos. Muestra la variable `elite_clients` al final."
   ]
  },
  {
   "cell_type": "code",
   "execution_count": null,
   "metadata": {
    "id": "t5kXJG1NBJEF"
   },
   "outputs": [
    {
     "data": {
      "text/plain": [
       "[[34591, 'Nina Brown', 45, 250000, 'Telecom'], [37512, 'Alex Smith', 39, 210000, 'IT'], [39591, 'Brian Perez', 29, 340000, 'Transportation'], [49571, 'Samantha Chen', 42, 220000, 'Retail']]\n"
      ]
     },
     "metadata": {},
     "output_type": "display_data"
    }
   ],
   "source": [
    "clients = [\n",
    "    [32456, \"Jack Wilson\", 32, 150000, \"Healthcare\"],\n",
    "    [34591, \"Nina Brown\", 45, 250000, \"Telecom\"],\n",
    "    [37512, \"Alex Smith\", 39, 210000, \"IT\"],\n",
    "    [39591, \"Brian Perez\", 29, 340000, \"Transportation\"],\n",
    "    [45123, \"Sarah Lee\", 28, 120000, \"Marketing\"],\n",
    "    [47635, \"David Kim\", 36, 180000, \"Finance\"],\n",
    "    [49571, \"Samantha Chen\", 42, 220000, \"Retail\"],\n",
    "    [50391, \"Juan Rodriguez\", 31, 160000, \"Architecture\"]\n",
    "]\n",
    "\n",
    "elite_clients = [] # añade la variable elite_clients aquí\n",
    "\n",
    "# escribe tu código aquí\n",
    "for variable in clients:\n",
    "    if variable[3]>200000:\n",
    "        elite_clients.append(variable)\n",
    "\n",
    "print(elite_clients)"
   ]
  },
  {
   "cell_type": "markdown",
   "metadata": {
    "id": "uHJ2lkqpBM48"
   },
   "source": [
    "### Ejercicio 5\n",
    "\n",
    "El departamento de marketing quiere una lista de todos los clientes del banco, dividida en cuatro segmentos de cuenta. Te han pedido que les presentes la lista. Divide a todos los clientes del Banco ABC en cuatro segmentos: la cuenta Standard para los clientes con ingresos inferiores a `$100 000` (exclusive), la cuenta Plus para ingresos de `$100 000` (inclusive) a `$200 000` (exclusive), la cuenta Elite para ingresos de `$200 000` (inclusive) a `$300 000` (exclusive), y la cuenta Executive para ingresos de `$300 000` (inclusive) o más.\n",
    "\n",
    "En el precódigo a continuación, verás cuatro variables con las listas: `standard`, `plus`, `elite` y `executive`. Escribe código para iterar sobre los clientes, comprueba a qué categoría pertenecen sus ingresos y agrégalos a la lista correspondiente. Muestra la lista de clientes executive al final."
   ]
  },
  {
   "cell_type": "code",
   "execution_count": null,
   "metadata": {
    "id": "nRSAyZ-pBR87"
   },
   "outputs": [
    {
     "data": {
      "text/plain": [
       "[[39591, 'Brian Perez', 29, 340000, 'Transportation'], [101321, 'Olivia Wilson', 44, 310000, 'Telecom'], [107512, 'Michael Perez', 53, 415000, 'Transportation']]\n"
      ]
     },
     "metadata": {},
     "output_type": "display_data"
    }
   ],
   "source": [
    "clients = [\n",
    "    [32456, \"Jack Wilson\", 32, 150000, \"Healthcare\"],\n",
    "    [34591, \"Nina Brown\", 45, 250000, \"Telecom\"],\n",
    "    [37512, \"Alex Smith\", 39, 210000, \"IT\"],\n",
    "    [39591, \"Brian Perez\", 29, 340000, \"Transportation\"],\n",
    "    [45123, \"Sarah Lee\", 28, 120000, \"Marketing\"],\n",
    "    [47635, \"David Kim\", 36, 180000, \"Finance\"],\n",
    "    [49571, \"Samantha Chen\", 42, 220000, \"Retail\"],\n",
    "    [50391, \"Juan Rodriguez\", 31, 160000, \"Architecture\"],\n",
    "    [34556, \"Lucas Hernandez\", 37, 75000, \"Education\"],\n",
    "    [64291, \"Jessica Li\", 25, 125000, \"IT\"],\n",
    "    [74512, \"Emma Davis\", 47, 197000, \"Finance\"],\n",
    "    [83191, \"Sophia Perez\", 34, 225000, \"Transportation\"],\n",
    "    [91023, \"Liam Kim\", 29, 98000, \"Retail\"],\n",
    "    [96435, \"Ava Chen\", 31, 175000, \"Marketing\"],\n",
    "    [100571, \"Noah Rodriguez\", 28, 85000, \"Architecture\"],\n",
    "    [101321, \"Olivia Wilson\", 44, 310000, \"Telecom\"],\n",
    "    [104556, \"William Brown\", 38, 289000, \"Finance\"],\n",
    "    [105491, \"Emily Smith\", 29, 193000, \"Healthcare\"],\n",
    "    [107512, \"Michael Perez\", 53, 415000, \"Transportation\"]\n",
    "]\n",
    "\n",
    "# listas vacías para agregar clientes y clientas\n",
    "standard = []\n",
    "plus = []\n",
    "elite = []\n",
    "executive = []\n",
    "for variable in clients:\n",
    "    if variable[3]<100000:\n",
    "        standard.append(variable)\n",
    "    elif variable[3]>=100000 and variable[3]<200000:\n",
    "        plus.append(variable)\n",
    "    elif variable[3]>200000 and variable[3]<300000:\n",
    "        elite.append(variable)\n",
    "    else:\n",
    "        executive.append(variable)\n",
    "\n",
    "# escribe tu código aquí\n",
    "\n",
    "\n",
    "print(executive)"
   ]
  },
  {
   "cell_type": "markdown",
   "metadata": {
    "id": "EgkhIO-dBTmq"
   },
   "source": [
    "### Ejercicio 6\n",
    "\n",
    "Es el Día de la Juventud y el equipo de marketing desea enviar un correo electrónico para atraer a nuestros clientes jóvenes.\n",
    "\n",
    "Para mejorar la solución anterior, debemos actualizar los criterios de edad para identificar a los clientes jóvenes.\n",
    "\n",
    "Hemos actualizado el código anterior con las nuevas categorías juveniles, pero necesitas añadir filtros de **edad** a tus filtros de **ingresos** previos para que funcionen como se espera. Las reglas son las siguientes:\n",
    "\n",
    "`standard_young`:\n",
    "\n",
    "Ingreso anual inferior a `$100 000` (exclusive) **Y** la edad es menor a 40 años (exclusive).\n",
    "\n",
    "`plus_young`:\n",
    "\n",
    "Ingreso anual de `$100 000` (inclusive) a `$200 000` (exclusive) **Y** la edad es menor a 35 años (exclusive).\n",
    "\n",
    "`elite_young`:\n",
    "\n",
    "Ingreso anual de `$200 000` (inclusive) a `$300 000` (exclusive) **Y** la edad es menor a 35 años (exclusive).\n",
    "\n",
    "`executive_young`:\n",
    "\n",
    "Ingreso anual superior a `$300 000` (inclusive) **Y** la edad es menor a 35 años (exclusive).\n",
    "\n",
    "Por favor, proporciona listas actualizadas con base en estas reglas y luego mostrar de nuevo solo la lista incluyendo los clientes \"executive young\".\n",
    "\n",
    "Los comentarios que aparecen en el precódigo te ayudarán a realizar los cambios necesarios. Por favor, préstales atención. Si tienes dificultades, no dudes en consultar la pista que te hemos dejado."
   ]
  },
  {
   "cell_type": "code",
   "execution_count": null,
   "metadata": {
    "id": "1OkNUGWZBXYy"
   },
   "outputs": [
    {
     "data": {
      "text/plain": [
       "[[39591, 'Brian Perez', 29, 340000, 'Transportation']]\n"
      ]
     },
     "metadata": {},
     "output_type": "display_data"
    }
   ],
   "source": [
    "clients = [\n",
    "    [32456, \"Jack Wilson\", 32, 150000, \"Healthcare\"],\n",
    "    [34591, \"Nina Brown\", 45, 250000, \"Telecom\"],\n",
    "    [37512, \"Alex Smith\", 39, 210000, \"IT\"],\n",
    "    [39591, \"Brian Perez\", 29, 340000, \"Transportation\"],\n",
    "    [45123, \"Sarah Lee\", 28, 120000, \"Marketing\"],\n",
    "    [47635, \"David Kim\", 36, 180000, \"Finance\"],\n",
    "    [49571, \"Samantha Chen\", 42, 220000, \"Retail\"],\n",
    "    [50391, \"Juan Rodriguez\", 31, 160000, \"Architecture\"],\n",
    "    [34556, \"Lucas Hernandez\", 37, 75000, \"Education\"],\n",
    "    [64291, \"Jessica Li\", 25, 125000, \"IT\"],\n",
    "    [74512, \"Emma Davis\", 47, 197000, \"Finance\"],\n",
    "    [83191, \"Sophia Perez\", 34, 225000, \"Transportation\"],\n",
    "    [91023, \"Liam Kim\", 29, 98000, \"Retail\"],\n",
    "    [96435, \"Ava Chen\", 31, 175000, \"Marketing\"],\n",
    "    [100571, \"Noah Rodriguez\", 28, 85000, \"Architecture\"],\n",
    "    [101321, \"Olivia Wilson\", 44, 310000, \"Telecom\"],\n",
    "    [104556, \"William Brown\", 38, 289000, \"Finance\"],\n",
    "    [105491, \"Emily Smith\", 29, 193000, \"Healthcare\"],\n",
    "    [107512, \"Michael Perez\", 53, 415000, \"Transportation\"]\n",
    "]\n",
    "\n",
    "standard_young = []\n",
    "plus_young = []\n",
    "elite_young = []\n",
    "executive_young = []\n",
    "\n",
    "for client in clients:\n",
    "    if client[3] < 100000 and client[2]<40: # actualiza la condición aquí\n",
    "        standard_young.append(client)\n",
    "    elif client[3] < 200000 and client[3]>=100000 and client[2]<35: # actualiza la condición aquí\n",
    "        plus_young.append(client)\n",
    "    elif client[3] < 300000 and client[3]>=200000 and client[2]<35: # actualiza la condición aquí\n",
    "        elite_young.append(client)\n",
    "    elif client[3]>=300000 and client[2]<35: # aquí sustituye 'else' por otra condición elif\n",
    "        executive_young .append(client)\n",
    "\n",
    "# no modifiques nada por debajo de esta línea\n",
    "print(executive_young)"
   ]
  },
  {
   "cell_type": "markdown",
   "metadata": {
    "id": "EbAF7s4QBZAR"
   },
   "source": [
    "### Ejercicio 7\n",
    "\n",
    "El equipo de gestión del Banco ABC te ha pedido que reorganices nuestra lista de clientes para que puedan acceder a los datos con mayor facilidad.\n",
    "\n",
    "En el siguiente precódigo, hemos inicializado una lista llamada `clients_dict`. Tu objetivo es llenar esta lista con diccionarios, donde cada diccionario contiene información sobre un cliente de la lista `clients`. En otras palabras, queremos que transformes cada lista de la lista `clients` en un diccionario y adjuntes este diccionario a la lista `clients_dict`.\n",
    "\n",
    "Utiliza las siguientes claves para cada diccionario que crees y adjuntes:\n",
    "\n",
    "| \"id\" |\n",
    "| --- |\n",
    "| \"client_name\" |\n",
    "| \"age\" |\n",
    "| \"yearly_income\" |\n",
    "| \"work_field\" |\n",
    "\n"
   ]
  },
  {
   "cell_type": "code",
   "execution_count": null,
   "metadata": {
    "id": "0iR4pf_PBgpg"
   },
   "outputs": [
    {
     "data": {
      "text/plain": [
       "[{'id': 32456, 'client_name': 'Jack Wilson', 'age': 32, 'yearly_income': 150000, 'work_field': 'Healthcare'}, {'id': 34591, 'client_name': 'Nina Brown', 'age': 45, 'yearly_income': 250000, 'work_field': 'Telecom'}, {'id': 37512, 'client_name': 'Alex Smith', 'age': 39, 'yearly_income': 210000, 'work_field': 'IT'}, {'id': 39591, 'client_name': 'Brian Perez', 'age': 29, 'yearly_income': 340000, 'work_field': 'Transportation'}, {'id': 45123, 'client_name': 'Sarah Lee', 'age': 28, 'yearly_income': 120000, 'work_field': 'Marketing'}, {'id': 47635, 'client_name': 'David Kim', 'age': 36, 'yearly_income': 180000, 'work_field': 'Finance'}, {'id': 49571, 'client_name': 'Samantha Chen', 'age': 42, 'yearly_income': 220000, 'work_field': 'Retail'}, {'id': 50391, 'client_name': 'Juan Rodriguez', 'age': 31, 'yearly_income': 160000, 'work_field': 'Architecture'}, {'id': 34556, 'client_name': 'Lucas Hernandez', 'age': 37, 'yearly_income': 75000, 'work_field': 'Education'}, {'id': 64291, 'client_name': 'Jessica Li', 'age': 25, 'yearly_income': 125000, 'work_field': 'IT'}, {'id': 74512, 'client_name': 'Emma Davis', 'age': 47, 'yearly_income': 197000, 'work_field': 'Finance'}, {'id': 83191, 'client_name': 'Sophia Perez', 'age': 34, 'yearly_income': 225000, 'work_field': 'Transportation'}, {'id': 91023, 'client_name': 'Liam Kim', 'age': 29, 'yearly_income': 98000, 'work_field': 'Retail'}, {'id': 96435, 'client_name': 'Ava Chen', 'age': 31, 'yearly_income': 175000, 'work_field': 'Marketing'}, {'id': 100571, 'client_name': 'Noah Rodriguez', 'age': 28, 'yearly_income': 85000, 'work_field': 'Architecture'}, {'id': 101321, 'client_name': 'Olivia Wilson', 'age': 44, 'yearly_income': 310000, 'work_field': 'Telecom'}, {'id': 104556, 'client_name': 'William Brown', 'age': 38, 'yearly_income': 289000, 'work_field': 'Finance'}, {'id': 105491, 'client_name': 'Emily Smith', 'age': 29, 'yearly_income': 193000, 'work_field': 'Healthcare'}, {'id': 107512, 'client_name': 'Michael Perez', 'age': 53, 'yearly_income': 415000, 'work_field': 'Transportation'}]\n"
      ]
     },
     "metadata": {},
     "output_type": "display_data"
    }
   ],
   "source": [
    "clients = [\n",
    "    [32456, \"Jack Wilson\", 32, 150000, \"Healthcare\"],\n",
    "    [34591, \"Nina Brown\", 45, 250000, \"Telecom\"],\n",
    "    [37512, \"Alex Smith\", 39, 210000, \"IT\"],\n",
    "    [39591, \"Brian Perez\", 29, 340000, \"Transportation\"],\n",
    "    [45123, \"Sarah Lee\", 28, 120000, \"Marketing\"],\n",
    "    [47635, \"David Kim\", 36, 180000, \"Finance\"],\n",
    "    [49571, \"Samantha Chen\", 42, 220000, \"Retail\"],\n",
    "    [50391, \"Juan Rodriguez\", 31, 160000, \"Architecture\"],\n",
    "    [34556, \"Lucas Hernandez\", 37, 75000, \"Education\"],\n",
    "    [64291, \"Jessica Li\", 25, 125000, \"IT\"],\n",
    "    [74512, \"Emma Davis\", 47, 197000, \"Finance\"],\n",
    "    [83191, \"Sophia Perez\", 34, 225000, \"Transportation\"],\n",
    "    [91023, \"Liam Kim\", 29, 98000, \"Retail\"],\n",
    "    [96435, \"Ava Chen\", 31, 175000, \"Marketing\"],\n",
    "    [100571, \"Noah Rodriguez\", 28, 85000, \"Architecture\"],\n",
    "    [101321, \"Olivia Wilson\", 44, 310000, \"Telecom\"],\n",
    "    [104556, \"William Brown\", 38, 289000, \"Finance\"],\n",
    "    [105491, \"Emily Smith\", 29, 193000, \"Healthcare\"],\n",
    "    [107512, \"Michael Perez\", 53, 415000, \"Transportation\"]\n",
    "]\n",
    "clients_dic=[]\n",
    "\n",
    "for client in clients:\n",
    "    dic_clientes={\n",
    "        'id': client[0],\n",
    "        'client_name': client[1],\n",
    "        'age': client[2],\n",
    "        'yearly_income': client[3],\n",
    "        'work_field': client[4]\n",
    "    }\n",
    "    clients_dic.append(dic_clientes)\n",
    "\n",
    "print(clients_dic)\n",
    "        \n",
    "\t# escribe tu código aquí\n",
    "\t# primero, crea un diccionario utilizando llaves\n",
    "\t# luego agrega este diccionario a clients_dict"
   ]
  },
  {
   "cell_type": "markdown",
   "metadata": {
    "id": "KOKs5cA_Bj2v"
   },
   "source": [
    "### Ejercicio 8\n",
    "\n",
    "A continuación, el departamento de marketing de ABC se interesa por el nivel de ingresos de cada área en el que trabajan sus clientes. Te pidieron que recopilaras los ingresos de la clientela para cada área.\n",
    "\n",
    "En el precódigo, de forma similar al ejercicio anterior, verás de nuevo la lista `clients`. Aquí la tienes por si quieres mirarla de nuevo:\n",
    "\n",
    "```python\n",
    "clients = [\n",
    "    [32456, \"Jack Wilson\", 32, 150000, \"Healthcare\"],\n",
    "    [34591, \"Nina Brown\", 45, 250000, \"Telecom\"],\n",
    "    [37512, \"Alex Smith\", 39, 210000, \"IT\"],\n",
    "    [39591, \"Brian Perez\", 29, 340000, \"Transportation\"],\n",
    "    [45123, \"Sarah Lee\", 28, 120000, \"Marketing\"],\n",
    "    [47635, \"David Kim\", 36, 180000, \"Finance\"],\n",
    "    [49571, \"Samantha Chen\", 42, 220000, \"Retail\"],\n",
    "    [50391, \"Juan Rodriguez\", 31, 160000, \"Architecture\"],\n",
    "    [34556, \"Lucas Hernandez\", 37, 75000, \"Education\"],\n",
    "    [64291, \"Jessica Li\", 25, 125000, \"IT\"],\n",
    "    [74512, \"Emma Davis\", 47, 197000, \"Finance\"],\n",
    "    [83191, \"Sophia Perez\", 34, 225000, \"Transportation\"],\n",
    "    [91023, \"Liam Kim\", 29, 98000, \"Retail\"],\n",
    "    [96435, \"Ava Chen\", 31, 175000, \"Marketing\"],\n",
    "    [100571, \"Noah Rodriguez\", 28, 85000, \"Architecture\"],\n",
    "    [101321, \"Olivia Wilson\", 44, 310000, \"Telecom\"],\n",
    "    [104556, \"William Brown\", 38, 289000, \"Finance\"],\n",
    "    [105491, \"Emily Smith\", 29, 193000, \"Healthcare\"],\n",
    "    [107512, \"Michael Perez\", 53, 415000, \"Transportation\"]\n",
    "]\n",
    "```\n",
    "\n",
    "Además de eso, en el precódigo, inicializamos un diccionario llamado `incomes_per_field`. Tu objetivo es llenarlo. Las claves serán las áreas en las que trabajan los clientes de ABC y los valores serán listas con los ingresos de todos los clientes de ABC que trabajan en cada área correspondiente. A continuación se muestra un ejemplo de un par clave-valor:\n",
    "\n",
    "```python\n",
    "\"Healthcare\": [150000, 193000]\n",
    "```\n",
    "\n",
    "La clave es el área (`\"Healthcare\"`) y los valores son dos ingresos de dos clientes de la lista `clients` que trabajan en `\"Healthcare\"` (Salud).\n",
    "\n",
    "Para llenar el diccionario `incomes_per_field`, itera sobre la lista `clients` y extrae el nombre del área y los ingresos de cada cliente. A continuación, comprueba si el área extraído existe en el diccionario `incomes_per_filed`:\n",
    "\n",
    "- Si no es así, agrégalo como clave y establece una lista con un único ingreso como valor.\n",
    "- Si existe, añade el ingreso a la lista de ingresos."
   ]
  },
  {
   "cell_type": "code",
   "execution_count": null,
   "metadata": {
    "id": "zL284odMBok-"
   },
   "outputs": [
    {
     "data": {
      "text/plain": [
       "{'Healthcare': [150000, 193000], 'Telecom': [250000, 310000], 'IT': [210000, 125000], 'Transportation': [340000, 225000, 415000], 'Marketing': [120000, 175000], 'Finance': [180000, 197000, 289000], 'Retail': [220000, 98000], 'Architecture': [160000, 85000], 'Education': [75000]}\n"
      ]
     },
     "metadata": {},
     "output_type": "display_data"
    }
   ],
   "source": [
    "clients = [\n",
    "    [32456, \"Jack Wilson\", 32, 150000, \"Healthcare\"],\n",
    "    [34591, \"Nina Brown\", 45, 250000, \"Telecom\"],\n",
    "    [37512, \"Alex Smith\", 39, 210000, \"IT\"],\n",
    "    [39591, \"Brian Perez\", 29, 340000, \"Transportation\"],\n",
    "    [45123, \"Sarah Lee\", 28, 120000, \"Marketing\"],\n",
    "    [47635, \"David Kim\", 36, 180000, \"Finance\"],\n",
    "    [49571, \"Samantha Chen\", 42, 220000, \"Retail\"],\n",
    "    [50391, \"Juan Rodriguez\", 31, 160000, \"Architecture\"],\n",
    "    [34556, \"Lucas Hernandez\", 37, 75000, \"Education\"],\n",
    "    [64291, \"Jessica Li\", 25, 125000, \"IT\"],\n",
    "    [74512, \"Emma Davis\", 47, 197000, \"Finance\"],\n",
    "    [83191, \"Sophia Perez\", 34, 225000, \"Transportation\"],\n",
    "    [91023, \"Liam Kim\", 29, 98000, \"Retail\"],\n",
    "    [96435, \"Ava Chen\", 31, 175000, \"Marketing\"],\n",
    "    [100571, \"Noah Rodriguez\", 28, 85000, \"Architecture\"],\n",
    "    [101321, \"Olivia Wilson\", 44, 310000, \"Telecom\"],\n",
    "    [104556, \"William Brown\", 38, 289000, \"Finance\"],\n",
    "    [105491, \"Emily Smith\", 29, 193000, \"Healthcare\"],\n",
    "    [107512, \"Michael Perez\", 53, 415000, \"Transportation\"]\n",
    "]\n",
    "\n",
    "incomes_per_field = {} # aquí colocarás los ingresos para cada área\n",
    "lista_ingresos=[]\n",
    "ingreso=0\n",
    "nombre_area=\"\"\n",
    "for client in clients:\n",
    "    nombre_area=client[4]\n",
    "    ingreso=client[3]\n",
    "    if incomes_per_field.get(nombre_area) == None:# primero, extrae el nombre del área\n",
    "            incomes_per_field[nombre_area] = [ingreso]# segundo, extrae los ingresos\n",
    "    else:\n",
    "            incomes_per_field[nombre_area].append(ingreso)\n",
    "                \n",
    "# comprueba si el área extraído NO está en el diccionario incomes_per_field\n",
    "\n",
    "# añade un nuevo área como clave y establece una lista como valor\n",
    "\t # si el área extraído está en el diccionario incomes_per_field\n",
    "\t\t# añade el nuevo ingreso a la lista de ingresos para un área en particular\n",
    "\n",
    "\n",
    "# no modifiques el código de abajo, ya que imprime el resultado\n",
    "print(incomes_per_field)"
   ]
  },
  {
   "cell_type": "markdown",
   "metadata": {
    "id": "XSbeo_L4Bqxl"
   },
   "source": [
    "### Ejercicio 9\n",
    "\n",
    "Empecemos por escribir una función llamada `filter_clients` para filtrar la lista de clientes por el área de trabajo del cliente. Esta función recibirá dos parámetros: `clients_list` (la lista de clientes) y `field` (el área a buscar). La función recorrerá cada cliente de la lista y, si encuentra un cliente con el área especificado, añadirá la información sobre este cliente a una nueva lista. Esta lista se devolverá como resultado de la ejecución de la función cuando concluya.\n",
    "\n",
    "Para probar, llama a la función para el área `\"Transportation\"`. A continuación, imprime la lista filtrada (ya en el precódigo)."
   ]
  },
  {
   "cell_type": "code",
   "execution_count": null,
   "metadata": {
    "id": "8zdZar78Bx_9"
   },
   "outputs": [
    {
     "data": {
      "text/plain": [
       "[[39591, 'Brian Perez', 29, 340000, 'Transportation'], [83191, 'Sophia Perez', 34, 225000, 'Transportation'], [107512, 'Michael Perez', 53, 415000, 'Transportation']]\n"
      ]
     },
     "metadata": {},
     "output_type": "display_data"
    }
   ],
   "source": [
    "clients = [\n",
    "    [32456, \"Jack Wilson\", 32, 150000, \"Healthcare\"],\n",
    "    [34591, \"Nina Brown\", 45, 250000, \"Telecom\"],\n",
    "    [37512, \"Alex Smith\", 39, 210000, \"IT\"],\n",
    "    [39591, \"Brian Perez\", 29, 340000, \"Transportation\"],\n",
    "    [45123, \"Sarah Lee\", 28, 120000, \"Marketing\"],\n",
    "    [47635, \"David Kim\", 36, 180000, \"Finance\"],\n",
    "    [49571, \"Samantha Chen\", 42, 220000, \"Retail\"],\n",
    "    [50391, \"Juan Rodriguez\", 31, 160000, \"Architecture\"],\n",
    "    [34556, \"Lucas Hernandez\", 37, 75000, \"Education\"],\n",
    "    [64291, \"Jessica Li\", 25, 125000, \"IT\"],\n",
    "    [74512, \"Emma Davis\", 47, 197000, \"Finance\"],\n",
    "    [83191, \"Sophia Perez\", 34, 225000, \"Transportation\"],\n",
    "    [91023, \"Liam Kim\", 29, 98000, \"Retail\"],\n",
    "    [96435, \"Ava Chen\", 31, 175000, \"Marketing\"],\n",
    "    [100571, \"Noah Rodriguez\", 28, 85000, \"Architecture\"],\n",
    "    [101321, \"Olivia Wilson\", 44, 310000, \"Telecom\"],\n",
    "    [104556, \"William Brown\", 38, 289000, \"Finance\"],\n",
    "    [105491, \"Emily Smith\", 29, 193000, \"Healthcare\"],\n",
    "    [107512, \"Michael Perez\", 53, 415000, \"Transportation\"]\n",
    "]\n",
    "\n",
    "\n",
    "# crea aquí tu función filter_clients\n",
    "def  filter_clients(Transportation, field):\n",
    "    lista =[]\n",
    "    for variable in Transportation:\n",
    "        if variable[4]==field:\n",
    "            lista.append(variable)\n",
    "        \n",
    "    return lista\n",
    "\n",
    "filtered_list  = filter_clients(clients, \"Transportation\") # llama a la función aquí\n",
    "\n",
    "# muestra el resultado aquí\n",
    "print(filtered_list)"
   ]
  },
  {
   "cell_type": "markdown",
   "metadata": {
    "id": "KzMRbg3DBzTN"
   },
   "source": [
    "### Ejercicio 10\n",
    "\n",
    "¡Vamos a hacerlo aún más flexible! Escribe otras dos funciones similares a la anterior y llámalas así:\n",
    "\n",
    "- `filter_age()` y\n",
    "- `filter_income()`\n",
    "\n",
    "En la primera, utilizaremos como filtro la edad con el valor por defecto de 0 mientras que en la segunda función, utilizaremos como filtro los ingresos con un valor por defecto también fijado en 0.\n",
    "\n",
    "Establece `clients` como valor por defecto en el parámetro `clients_list` para ambas funciones de la misma forma que hiciste en la tarea anterior.\n",
    "\n",
    "Ambas funciones deben filtrar los clientes que tienen valores mayores que el valor pasado como argumento en la llamada a la función.\n",
    "\n",
    "Llama a la función `filter_age()` y filtra la lista `clients`, extrayendo los datos de clientes que son mayores de 40 años. Guarda los resultados en la variable `filtered_age`.\n",
    "\n",
    "De la misma manera, llama a la función `filter_income()` y filtra la lista `clients`, extrayendo solo los clientes que tengan ingresos superiores a 250 000. Guarda los resultados en la variable `filtered_income`.\n",
    "\n",
    "Imprime las variables `filered_age` y `filtered_income` (ya en el precódigo)."
   ]
  },
  {
   "cell_type": "code",
   "execution_count": null,
   "metadata": {
    "id": "4wWreCZuB1pE"
   },
   "outputs": [
    {
     "data": {
      "text/plain": [
       "[[34591, 'Nina Brown', 45, 250000, 'Telecom'], [49571, 'Samantha Chen', 42, 220000, 'Retail'], [74512, 'Emma Davis', 47, 197000, 'Finance'], [101321, 'Olivia Wilson', 44, 310000, 'Telecom'], [107512, 'Michael Perez', 53, 415000, 'Transportation']]\n",
       "[[39591, 'Brian Perez', 29, 340000, 'Transportation'], [101321, 'Olivia Wilson', 44, 310000, 'Telecom'], [104556, 'William Brown', 38, 289000, 'Finance'], [107512, 'Michael Perez', 53, 415000, 'Transportation']]\n"
      ]
     },
     "metadata": {},
     "output_type": "display_data"
    }
   ],
   "source": [
    "clients = [\n",
    "    [32456, \"Jack Wilson\", 32, 150000, \"Healthcare\"],\n",
    "    [34591, \"Nina Brown\", 45, 250000, \"Telecom\"],\n",
    "    [37512, \"Alex Smith\", 39, 210000, \"IT\"],\n",
    "    [39591, \"Brian Perez\", 29, 340000, \"Transportation\"],\n",
    "    [45123, \"Sarah Lee\", 28, 120000, \"Marketing\"],\n",
    "    [47635, \"David Kim\", 36, 180000, \"Finance\"],\n",
    "    [49571, \"Samantha Chen\", 42, 220000, \"Retail\"],\n",
    "    [50391, \"Juan Rodriguez\", 31, 160000, \"Architecture\"],\n",
    "    [34556, \"Lucas Hernandez\", 37, 75000, \"Education\"],\n",
    "    [64291, \"Jessica Li\", 25, 125000, \"IT\"],\n",
    "    [74512, \"Emma Davis\", 47, 197000, \"Finance\"],\n",
    "    [83191, \"Sophia Perez\", 34, 225000, \"Transportation\"],\n",
    "    [91023, \"Liam Kim\", 29, 98000, \"Retail\"],\n",
    "    [96435, \"Ava Chen\", 31, 175000, \"Marketing\"],\n",
    "    [100571, \"Noah Rodriguez\", 28, 85000, \"Architecture\"],\n",
    "    [101321, \"Olivia Wilson\", 44, 310000, \"Telecom\"],\n",
    "    [104556, \"William Brown\", 38, 289000, \"Finance\"],\n",
    "    [105491, \"Emily Smith\", 29, 193000, \"Healthcare\"],\n",
    "    [107512, \"Michael Perez\", 53, 415000, \"Transportation\"]\n",
    "]\n",
    "\n",
    "# escribe aquí dos funciones de filtrado: filter_age y filter_income\n",
    "def filter_age(edad, clients_list):\n",
    "    resultados = []\n",
    "    for client in clients_list:\n",
    "        if edad < client[2]:\n",
    "            resultados.append(client)\n",
    "    return resultados\n",
    "\n",
    "def filter_income(parametro, clients_list):\n",
    "    resultados = []\n",
    "    for client in clients_list:\n",
    "        if parametro < client[3]:\n",
    "            resultados.append(client)\n",
    "    return resultados\n",
    "\n",
    "# llama a las funciones mejoradas\n",
    "filtered_age = filter_age(40, clients) # llama a la función filter_age aquí\n",
    "filtered_income = filter_income(250000, clients)# llama a la función filter_income aquí\n",
    "\n",
    "# muestra el resultado\n",
    "print(filtered_age)\n",
    "print(filtered_income)"
   ]
  },
  {
   "cell_type": "markdown",
   "metadata": {
    "id": "2RRWlgp0AuLD"
   },
   "source": [
    "Mejoremos nuestra práctica del capítulo anterior y resolvamos algunas tareas más del Banco ABC.\n",
    "\n",
    "El banco analizó la lista de sus clientes y encontró más clientes de interés para prestar servicios bancarios privilegiados. Se agregaron a nuestra lista anterior.\n",
    "\n",
    "```python\n",
    "clients = [\n",
    "    [32456, \"Jack Wilson\", 32, 150000, \"Healthcare\"],\n",
    "    [34591, \"Nina Brown\", 45, 250000, \"Telecom\"],\n",
    "    [37512, \"Alex Smith\", 39, 210000, \"IT\"],\n",
    "    [39591, \"Brian Perez\", 29, 340000, \"Transportation\"],\n",
    "    [45123, \"Sarah Lee\", 28, 120000, \"Marketing\"],\n",
    "    [47635, \"David Kim\", 36, 180000, \"Finance\"],\n",
    "    [49571, \"Samantha Chen\", 42, 220000, \"Retail\"],\n",
    "    [50391, \"Juan Rodriguez\", 31, 160000, \"Architecture\"],\n",
    "]\n",
    "\n",
    "```"
   ]
  },
  {
   "cell_type": "markdown",
   "metadata": {
    "id": "wQvLvE-RAwLx"
   },
   "source": [
    "### Ejercicio 1\n",
    "\n",
    "Los departamentos de seguridad del banco no quedaron satisfechos con la forma en la que presentamos la lista de clientes la última vez. Esta vez nos pidieron que proporcionáramos los nombres de los clientes imprimiendo cada nombre en una línea separada.\n",
    "\n",
    "Haz un bucle en la lista de clientes y muestra sus nombres."
   ]
  },
  {
   "cell_type": "code",
   "execution_count": null,
   "metadata": {
    "id": "z_MYuFnoApK1"
   },
   "outputs": [],
   "source": [
    "clients = [\n",
    "    [32456, \"Jack Wilson\", 32, 150000, \"Healthcare\"],\n",
    "    [34591, \"Nina Brown\", 45, 250000, \"Telecom\"],\n",
    "    [37512, \"Alex Smith\", 39, 210000, \"IT\"],\n",
    "    [39591, \"Brian Perez\", 29, 340000, \"Transportation\"],\n",
    "    [45123, \"Sarah Lee\", 28, 120000, \"Marketing\"],\n",
    "    [47635, \"David Kim\", 36, 180000, \"Finance\"],\n",
    "    [49571, \"Samantha Chen\", 42, 220000, \"Retail\"],\n",
    "    [50391, \"Juan Rodriguez\", 31, 160000, \"Architecture\"],\n",
    "]\n",
    "\n",
    "for client in clients:\n",
    "    print(client[1])\n"
   ]
  },
  {
   "cell_type": "markdown",
   "metadata": {
    "id": "OgwPdYXaAvTi"
   },
   "source": [
    "### Ejercicio 2\n",
    "\n",
    "El departamento de marketing del Banco ABC está interesado en conocer la edad promedio de su clientela. La edad promedio es simplemente la suma de las edades de todos los clientes dividida entre la cantidad de clientes. Utiliza el bucle for para iterar sobre la lista `clients` y actualiza las variables `total_age` y `num_clients` en cada iteración del bucle.\n",
    "\n",
    "La variable `total_age` debe almacenar la suma de edades, mientras que la variable `num_clients` se usa para almacenar el número total de clientes.\n",
    "\n",
    "Las variables `total_age` y `num_clients` ya están declaradas para que hagas tus cálculos con ellas. Tras recorrer la lista y actualizar estas dos variables, calcula la edad promedio de todos los clientes, almacénala en la variable `average_age` y muéstrala."
   ]
  },
  {
   "cell_type": "code",
   "execution_count": null,
   "metadata": {
    "id": "B4m4rN6QA9Jn"
   },
   "outputs": [],
   "source": [
    "clients = [\n",
    "    [32456, \"Jack Wilson\", 32, 150000, \"Healthcare\"],\n",
    "    [34591, \"Nina Brown\", 45, 250000, \"Telecom\"],\n",
    "    [37512, \"Alex Smith\", 39, 210000, \"IT\"],\n",
    "    [39591, \"Brian Perez\", 29, 340000, \"Transportation\"],\n",
    "    [45123, \"Sarah Lee\", 28, 120000, \"Marketing\"],\n",
    "    [47635, \"David Kim\", 36, 180000, \"Finance\"],\n",
    "    [49571, \"Samantha Chen\", 42, 220000, \"Retail\"],\n",
    "    [50391, \"Juan Rodriguez\", 31, 160000, \"Architecture\"]\n",
    "]\n",
    "\n",
    "total_age = 0\n",
    "num_clients = 0\n",
    "\n",
    "for client in clients:\n",
    "    total_age += client[2]\n",
    "    num_clients += 1\n",
    "\n",
    "average_age = total_age / num_clients\n",
    "\n",
    "print(average_age)\n",
    "\n"
   ]
  },
  {
   "cell_type": "markdown",
   "metadata": {
    "id": "YMN6MlkiA-yt"
   },
   "source": [
    "### Ejercicio 3\n",
    "\n",
    "La gerencia está interesada en saber cuándo un cliente alcanza un millón en ingresos totales y te pidieron que escribieras un código que calcule la cantidad de años que necesita un cliente para alcanzar este número. Para empezar, te pidieron que probaras tu código para `'Jack Wilson'`, que gana `150000` al año. Escribe un bucle `while` que sume los ingresos anuales totales de Jack hasta que llegue a un millón. Una vez que lo alcance, muestra el número de años que tardó en alcanzar este ingreso total."
   ]
  },
  {
   "cell_type": "code",
   "execution_count": null,
   "metadata": {
    "id": "UevmiU_GBAy2"
   },
   "outputs": [],
   "source": [
    "annual_income = 150000 # ingreso anual de Jack\n",
    "target_income = 1000000 # ingreso objetivo\n",
    "\n",
    "total_income_sum = 0 # ingresos totales que se actualizarán para cada año\n",
    "years_to_million = 0 # cantidad de años que también se actualizará\n",
    "\n",
    "while total_income_sum < target_income:\n",
    "\t\ttotal_income_sum += annual_income\n",
    "\t\tyears_to_million += 1\n",
    "\n",
    "print(years_to_million)"
   ]
  },
  {
   "cell_type": "markdown",
   "metadata": {
    "id": "nYy8sS3CBCF2"
   },
   "source": [
    "### Ejercicio 4\n",
    "\n",
    "El Banco ABC ha presentado una nueva cuenta Elite diseñada para clientes y clientas de alto poder adquisitivo que ganan más de `$200 000` al año. Escribe código para iterar sobre los clientes, comprueba que sus ingresos anuales superen los `$200 000` y agrega la sublista sobre un cliente elegible a la variable `elite_clients`, que es una lista de clientes ricos. Muestra la variable `elite_clients` al final."
   ]
  },
  {
   "cell_type": "code",
   "execution_count": null,
   "metadata": {
    "id": "t5kXJG1NBJEF"
   },
   "outputs": [],
   "source": [
    "clients = [\n",
    "    [32456, \"Jack Wilson\", 32, 150000, \"Healthcare\"],\n",
    "    [34591, \"Nina Brown\", 45, 250000, \"Telecom\"],\n",
    "    [37512, \"Alex Smith\", 39, 210000, \"IT\"],\n",
    "    [39591, \"Brian Perez\", 29, 340000, \"Transportation\"],\n",
    "    [45123, \"Sarah Lee\", 28, 120000, \"Marketing\"],\n",
    "    [47635, \"David Kim\", 36, 180000, \"Finance\"],\n",
    "    [49571, \"Samantha Chen\", 42, 220000, \"Retail\"],\n",
    "    [50391, \"Juan Rodriguez\", 31, 160000, \"Architecture\"]\n",
    "]\n",
    "\n",
    "elite_clients = []\n",
    "\n",
    "for client in clients:\n",
    "    if client[3] > 200000:\n",
    "        elite_clients.append(client)\n",
    "\n",
    "\n",
    "print(elite_clients)"
   ]
  },
  {
   "cell_type": "markdown",
   "metadata": {
    "id": "uHJ2lkqpBM48"
   },
   "source": [
    "### Ejercicio 5\n",
    "\n",
    "El departamento de marketing quiere una lista de todos los clientes del banco, dividida en cuatro segmentos de cuenta. Te han pedido que les presentes la lista. Divide a todos los clientes del Banco ABC en cuatro segmentos: la cuenta Standard para los clientes con ingresos inferiores a `$100 000` (exclusive), la cuenta Plus para ingresos de `$100 000` (inclusive) a `$200 000` (exclusive), la cuenta Elite para ingresos de `$200 000` (inclusive) a `$300 000` (exclusive), y la cuenta Executive para ingresos de `$300 000` (inclusive) o más.\n",
    "\n",
    "En el precódigo a continuación, verás cuatro variables con las listas: `standard`, `plus`, `elite` y `executive`. Escribe código para iterar sobre los clientes, comprueba a qué categoría pertenecen sus ingresos y agrégalos a la lista correspondiente. Muestra la lista de clientes executive al final."
   ]
  },
  {
   "cell_type": "code",
   "execution_count": null,
   "metadata": {
    "id": "nRSAyZ-pBR87"
   },
   "outputs": [],
   "source": [
    "clients = [\n",
    "    [32456, \"Jack Wilson\", 32, 150000, \"Healthcare\"],\n",
    "    [34591, \"Nina Brown\", 45, 250000, \"Telecom\"],\n",
    "    [37512, \"Alex Smith\", 39, 210000, \"IT\"],\n",
    "    [39591, \"Brian Perez\", 29, 340000, \"Transportation\"],\n",
    "    [45123, \"Sarah Lee\", 28, 120000, \"Marketing\"],\n",
    "    [47635, \"David Kim\", 36, 180000, \"Finance\"],\n",
    "    [49571, \"Samantha Chen\", 42, 220000, \"Retail\"],\n",
    "    [50391, \"Juan Rodriguez\", 31, 160000, \"Architecture\"],\n",
    "    [34556, \"Lucas Hernandez\", 37, 75000, \"Education\"],\n",
    "    [64291, \"Jessica Li\", 25, 125000, \"IT\"],\n",
    "    [74512, \"Emma Davis\", 47, 197000, \"Finance\"],\n",
    "    [83191, \"Sophia Perez\", 34, 225000, \"Transportation\"],\n",
    "    [91023, \"Liam Kim\", 29, 98000, \"Retail\"],\n",
    "    [96435, \"Ava Chen\", 31, 175000, \"Marketing\"],\n",
    "    [100571, \"Noah Rodriguez\", 28, 85000, \"Architecture\"],\n",
    "    [101321, \"Olivia Wilson\", 44, 310000, \"Telecom\"],\n",
    "    [104556, \"William Brown\", 38, 289000, \"Finance\"],\n",
    "    [105491, \"Emily Smith\", 29, 193000, \"Healthcare\"],\n",
    "    [107512, \"Michael Perez\", 53, 415000, \"Transportation\"]\n",
    "]\n",
    "\n",
    "standard = []\n",
    "plus = []\n",
    "elite = []\n",
    "executive = []\n",
    "\n",
    "for client in clients:\n",
    "    if client[3] < 100000:\n",
    "        standard.append(client)\n",
    "    elif client[3] < 200000:\n",
    "        plus.append(client)\n",
    "    elif client[3] < 300000:\n",
    "        elite.append(client)\n",
    "    else:\n",
    "        executive.append(client)\n",
    "\n",
    "print(executive)"
   ]
  },
  {
   "cell_type": "markdown",
   "metadata": {
    "id": "EgkhIO-dBTmq"
   },
   "source": [
    "### Ejercicio 6\n",
    "\n",
    "Es el Día de la Juventud y el equipo de marketing desea enviar un correo electrónico para atraer a nuestros clientes jóvenes.\n",
    "\n",
    "Para mejorar la solución anterior, debemos actualizar los criterios de edad para identificar a los clientes jóvenes.\n",
    "\n",
    "Hemos actualizado el código anterior con las nuevas categorías juveniles, pero necesitas añadir filtros de **edad** a tus filtros de **ingresos** previos para que funcionen como se espera. Las reglas son las siguientes:\n",
    "\n",
    "`standard_young`:\n",
    "\n",
    "Ingreso anual inferior a `$100 000` (exclusive) **Y** la edad es menor a 40 años (exclusive).\n",
    "\n",
    "`plus_young`:\n",
    "\n",
    "Ingreso anual de `$100 000` (inclusive) a `$200 000` (exclusive) **Y** la edad es menor a 35 años (exclusive).\n",
    "\n",
    "`elite_young`:\n",
    "\n",
    "Ingreso anual de `$200 000` (inclusive) a `$300 000` (exclusive) **Y** la edad es menor a 35 años (exclusive).\n",
    "\n",
    "`executive_young`:\n",
    "\n",
    "Ingreso anual superior a `$300 000` (inclusive) **Y** la edad es menor a 35 años (exclusive).\n",
    "\n",
    "Por favor, proporciona listas actualizadas con base en estas reglas y luego mostrar de nuevo solo la lista incluyendo los clientes \"executive young\".\n",
    "\n",
    "Los comentarios que aparecen en el precódigo te ayudarán a realizar los cambios necesarios. Por favor, préstales atención. Si tienes dificultades, no dudes en consultar la pista que te hemos dejado."
   ]
  },
  {
   "cell_type": "code",
   "execution_count": null,
   "metadata": {
    "id": "1OkNUGWZBXYy"
   },
   "outputs": [],
   "source": [
    "clients = [\n",
    "    [32456, \"Jack Wilson\", 32, 150000, \"Healthcare\"],\n",
    "    [34591, \"Nina Brown\", 45, 250000, \"Telecom\"],\n",
    "    [37512, \"Alex Smith\", 39, 210000, \"IT\"],\n",
    "    [39591, \"Brian Perez\", 29, 340000, \"Transportation\"],\n",
    "    [45123, \"Sarah Lee\", 28, 120000, \"Marketing\"],\n",
    "    [47635, \"David Kim\", 36, 180000, \"Finance\"],\n",
    "    [49571, \"Samantha Chen\", 42, 220000, \"Retail\"],\n",
    "    [50391, \"Juan Rodriguez\", 31, 160000, \"Architecture\"],\n",
    "    [34556, \"Lucas Hernandez\", 37, 75000, \"Education\"],\n",
    "    [64291, \"Jessica Li\", 25, 125000, \"IT\"],\n",
    "    [74512, \"Emma Davis\", 47, 197000, \"Finance\"],\n",
    "    [83191, \"Sophia Perez\", 34, 225000, \"Transportation\"],\n",
    "    [91023, \"Liam Kim\", 29, 98000, \"Retail\"],\n",
    "    [96435, \"Ava Chen\", 31, 175000, \"Marketing\"],\n",
    "    [100571, \"Noah Rodriguez\", 28, 85000, \"Architecture\"],\n",
    "    [101321, \"Olivia Wilson\", 44, 310000, \"Telecom\"],\n",
    "    [104556, \"William Brown\", 38, 289000, \"Finance\"],\n",
    "    [105491, \"Emily Smith\", 29, 193000, \"Healthcare\"],\n",
    "    [107512, \"Michael Perez\", 53, 415000, \"Transportation\"]\n",
    "]\n",
    "\n",
    "standard_young = []\n",
    "plus_young = []\n",
    "elite_young = []\n",
    "executive_young = []\n",
    "\n",
    "for client in clients:\n",
    "    if client[3] < 100000 and client[2] <= 40:\n",
    "        standard_young.append(client)\n",
    "    elif client[3] < 200000 and client[2] <= 35:\n",
    "        plus_young.append(client)\n",
    "    elif client[3] < 300000 and client[2] <= 35:\n",
    "        elite_young.append(client)\n",
    "    elif client[3] > 300000 and client[2] <= 35:\n",
    "        executive_young.append(client)\n",
    "\n",
    "print(executive_young)"
   ]
  },
  {
   "cell_type": "markdown",
   "metadata": {
    "id": "EbAF7s4QBZAR"
   },
   "source": [
    "### Ejercicio 7\n",
    "\n",
    "El equipo de gestión del Banco ABC te ha pedido que reorganices nuestra lista de clientes para que puedan acceder a los datos con mayor facilidad.\n",
    "\n",
    "En el siguiente precódigo, hemos inicializado una lista llamada `clients_dict`. Tu objetivo es llenar esta lista con diccionarios, donde cada diccionario contiene información sobre un cliente de la lista `clients`. En otras palabras, queremos que transformes cada lista de la lista `clients` en un diccionario y adjuntes este diccionario a la lista `clients_dict`.\n",
    "\n",
    "Utiliza las siguientes claves para cada diccionario que crees y adjuntes:\n",
    "\n",
    "| \"id\" |\n",
    "| --- |\n",
    "| \"client_name\" |\n",
    "| \"age\" |\n",
    "| \"yearly_income\" |\n",
    "| \"work_field\" |\n",
    "\n"
   ]
  },
  {
   "cell_type": "code",
   "execution_count": null,
   "metadata": {
    "id": "0iR4pf_PBgpg"
   },
   "outputs": [],
   "source": [
    "clients = [\n",
    "    [32456, \"Jack Wilson\", 32, 150000, \"Healthcare\"],\n",
    "    [34591, \"Nina Brown\", 45, 250000, \"Telecom\"],\n",
    "    [37512, \"Alex Smith\", 39, 210000, \"IT\"],\n",
    "    [39591, \"Brian Perez\", 29, 340000, \"Transportation\"],\n",
    "    [45123, \"Sarah Lee\", 28, 120000, \"Marketing\"],\n",
    "    [47635, \"David Kim\", 36, 180000, \"Finance\"],\n",
    "    [49571, \"Samantha Chen\", 42, 220000, \"Retail\"],\n",
    "    [50391, \"Juan Rodriguez\", 31, 160000, \"Architecture\"],\n",
    "    [34556, \"Lucas Hernandez\", 37, 75000, \"Education\"],\n",
    "    [64291, \"Jessica Li\", 25, 125000, \"IT\"],\n",
    "    [74512, \"Emma Davis\", 47, 197000, \"Finance\"],\n",
    "    [83191, \"Sophia Perez\", 34, 225000, \"Transportation\"],\n",
    "    [91023, \"Liam Kim\", 29, 98000, \"Retail\"],\n",
    "    [96435, \"Ava Chen\", 31, 175000, \"Marketing\"],\n",
    "    [100571, \"Noah Rodriguez\", 28, 85000, \"Architecture\"],\n",
    "    [101321, \"Olivia Wilson\", 44, 310000, \"Telecom\"],\n",
    "    [104556, \"William Brown\", 38, 289000, \"Finance\"],\n",
    "    [105491, \"Emily Smith\", 29, 193000, \"Healthcare\"],\n",
    "    [107512, \"Michael Perez\", 53, 415000, \"Transportation\"]\n",
    "]\n",
    "\n",
    "for client in clients:\n",
    "    client_info = {\"id\": client[0],\n",
    "                   \"client_name\": client[1],\n",
    "                   \"age\": client[2],\n",
    "                   \"yearly_income\": client[3],\n",
    "                   \"work_field\": client[4]}\n",
    "    print(client_info)"
   ]
  },
  {
   "cell_type": "markdown",
   "metadata": {
    "id": "KOKs5cA_Bj2v"
   },
   "source": [
    "### Ejercicio 8\n",
    "\n",
    "A continuación, el departamento de marketing de ABC se interesa por el nivel de ingresos de cada área en el que trabajan sus clientes. Te pidieron que recopilaras los ingresos de la clientela para cada área.\n",
    "\n",
    "En el precódigo, de forma similar al ejercicio anterior, verás de nuevo la lista `clients`. Aquí la tienes por si quieres mirarla de nuevo:\n",
    "\n",
    "```python\n",
    "clients = [\n",
    "    [32456, \"Jack Wilson\", 32, 150000, \"Healthcare\"],\n",
    "    [34591, \"Nina Brown\", 45, 250000, \"Telecom\"],\n",
    "    [37512, \"Alex Smith\", 39, 210000, \"IT\"],\n",
    "    [39591, \"Brian Perez\", 29, 340000, \"Transportation\"],\n",
    "    [45123, \"Sarah Lee\", 28, 120000, \"Marketing\"],\n",
    "    [47635, \"David Kim\", 36, 180000, \"Finance\"],\n",
    "    [49571, \"Samantha Chen\", 42, 220000, \"Retail\"],\n",
    "    [50391, \"Juan Rodriguez\", 31, 160000, \"Architecture\"],\n",
    "    [34556, \"Lucas Hernandez\", 37, 75000, \"Education\"],\n",
    "    [64291, \"Jessica Li\", 25, 125000, \"IT\"],\n",
    "    [74512, \"Emma Davis\", 47, 197000, \"Finance\"],\n",
    "    [83191, \"Sophia Perez\", 34, 225000, \"Transportation\"],\n",
    "    [91023, \"Liam Kim\", 29, 98000, \"Retail\"],\n",
    "    [96435, \"Ava Chen\", 31, 175000, \"Marketing\"],\n",
    "    [100571, \"Noah Rodriguez\", 28, 85000, \"Architecture\"],\n",
    "    [101321, \"Olivia Wilson\", 44, 310000, \"Telecom\"],\n",
    "    [104556, \"William Brown\", 38, 289000, \"Finance\"],\n",
    "    [105491, \"Emily Smith\", 29, 193000, \"Healthcare\"],\n",
    "    [107512, \"Michael Perez\", 53, 415000, \"Transportation\"]\n",
    "]\n",
    "```\n",
    "\n",
    "Además de eso, en el precódigo, inicializamos un diccionario llamado `incomes_per_field`. Tu objetivo es llenarlo. Las claves serán las áreas en las que trabajan los clientes de ABC y los valores serán listas con los ingresos de todos los clientes de ABC que trabajan en cada área correspondiente. A continuación se muestra un ejemplo de un par clave-valor:\n",
    "\n",
    "```python\n",
    "\"Healthcare\": [150000, 193000]\n",
    "```\n",
    "\n",
    "La clave es el área (`\"Healthcare\"`) y los valores son dos ingresos de dos clientes de la lista `clients` que trabajan en `\"Healthcare\"` (Salud).\n",
    "\n",
    "Para llenar el diccionario `incomes_per_field`, itera sobre la lista `clients` y extrae el nombre del área y los ingresos de cada cliente. A continuación, comprueba si el área extraído existe en el diccionario `incomes_per_filed`:\n",
    "\n",
    "- Si no es así, agrégalo como clave y establece una lista con un único ingreso como valor.\n",
    "- Si existe, añade el ingreso a la lista de ingresos."
   ]
  },
  {
   "cell_type": "code",
   "execution_count": null,
   "metadata": {
    "id": "zL284odMBok-"
   },
   "outputs": [],
   "source": [
    "clients = [\n",
    "    [32456, \"Jack Wilson\", 32, 150000, \"Healthcare\"],\n",
    "    [34591, \"Nina Brown\", 45, 250000, \"Telecom\"],\n",
    "    [37512, \"Alex Smith\", 39, 210000, \"IT\"],\n",
    "    [39591, \"Brian Perez\", 29, 340000, \"Transportation\"],\n",
    "    [45123, \"Sarah Lee\", 28, 120000, \"Marketing\"],\n",
    "    [47635, \"David Kim\", 36, 180000, \"Finance\"],\n",
    "    [49571, \"Samantha Chen\", 42, 220000, \"Retail\"],\n",
    "    [50391, \"Juan Rodriguez\", 31, 160000, \"Architecture\"],\n",
    "    [34556, \"Lucas Hernandez\", 37, 75000, \"Education\"],\n",
    "    [64291, \"Jessica Li\", 25, 125000, \"IT\"],\n",
    "    [74512, \"Emma Davis\", 47, 197000, \"Finance\"],\n",
    "    [83191, \"Sophia Perez\", 34, 225000, \"Transportation\"],\n",
    "    [91023, \"Liam Kim\", 29, 98000, \"Retail\"],\n",
    "    [96435, \"Ava Chen\", 31, 175000, \"Marketing\"],\n",
    "    [100571, \"Noah Rodriguez\", 28, 85000, \"Architecture\"],\n",
    "    [101321, \"Olivia Wilson\", 44, 310000, \"Telecom\"],\n",
    "    [104556, \"William Brown\", 38, 289000, \"Finance\"],\n",
    "    [105491, \"Emily Smith\", 29, 193000, \"Healthcare\"],\n",
    "    [107512, \"Michael Perez\", 53, 415000, \"Transportation\"]\n",
    "]\n",
    "\n",
    "incomes_per_field = {}\n",
    "\n",
    "for client in clients:\n",
    "\tfield = client[4]\n",
    "\tincome = client[3]\n",
    "\tif incomes_per_field.get(field) == None:\n",
    "\t\tincomes_per_field[field] = [income]\n",
    "\telse:\n",
    "\t\tincomes_per_field[field].append(income)\n",
    "\n",
    "\n",
    "# no modifiques el código de abajo, ya que imprime el resultado\n",
    "print(incomes_per_field)"
   ]
  },
  {
   "cell_type": "markdown",
   "metadata": {
    "id": "XSbeo_L4Bqxl"
   },
   "source": [
    "### Ejercicio 9\n",
    "\n",
    "Empecemos por escribir una función llamada `filter_clients` para filtrar la lista de clientes por el área de trabajo del cliente. Esta función recibirá dos parámetros: `clients_list` (la lista de clientes) y `field` (el área a buscar). La función recorrerá cada cliente de la lista y, si encuentra un cliente con el área especificado, añadirá la información sobre este cliente a una nueva lista. Esta lista se devolverá como resultado de la ejecución de la función cuando concluya.\n",
    "\n",
    "Para probar, llama a la función para el área `\"Transportation\"`. A continuación, imprime la lista filtrada (ya en el precódigo)."
   ]
  },
  {
   "cell_type": "code",
   "execution_count": null,
   "metadata": {
    "id": "8zdZar78Bx_9"
   },
   "outputs": [],
   "source": [
    "clients = [\n",
    "    [32456, \"Jack Wilson\", 32, 150000, \"Healthcare\"],\n",
    "    [34591, \"Nina Brown\", 45, 250000, \"Telecom\"],\n",
    "    [37512, \"Alex Smith\", 39, 210000, \"IT\"],\n",
    "    [39591, \"Brian Perez\", 29, 340000, \"Transportation\"],\n",
    "    [45123, \"Sarah Lee\", 28, 120000, \"Marketing\"],\n",
    "    [47635, \"David Kim\", 36, 180000, \"Finance\"],\n",
    "    [49571, \"Samantha Chen\", 42, 220000, \"Retail\"],\n",
    "    [50391, \"Juan Rodriguez\", 31, 160000, \"Architecture\"],\n",
    "    [34556, \"Lucas Hernandez\", 37, 75000, \"Education\"],\n",
    "    [64291, \"Jessica Li\", 25, 125000, \"IT\"],\n",
    "    [74512, \"Emma Davis\", 47, 197000, \"Finance\"],\n",
    "    [83191, \"Sophia Perez\", 34, 225000, \"Transportation\"],\n",
    "    [91023, \"Liam Kim\", 29, 98000, \"Retail\"],\n",
    "    [96435, \"Ava Chen\", 31, 175000, \"Marketing\"],\n",
    "    [100571, \"Noah Rodriguez\", 28, 85000, \"Architecture\"],\n",
    "    [101321, \"Olivia Wilson\", 44, 310000, \"Telecom\"],\n",
    "    [104556, \"William Brown\", 38, 289000, \"Finance\"],\n",
    "    [105491, \"Emily Smith\", 29, 193000, \"Healthcare\"],\n",
    "    [107512, \"Michael Perez\", 53, 415000, \"Transportation\"]\n",
    "]\n",
    "\n",
    "\n",
    "# crea aquí tu función filter_clients\n",
    "def filter_clients(clients_list, field):\n",
    "    result = []\n",
    "    for client in clients_list:\n",
    "        if field in client[4]:\n",
    "            result.append(client)\n",
    "    return result\n",
    "\n",
    "filtered_list = filter_clients(clients, \"Transportation\")\n",
    "\n",
    "# muestra el resultado aquí\n",
    "print(filtered_list)"
   ]
  },
  {
   "cell_type": "markdown",
   "metadata": {
    "id": "KzMRbg3DBzTN"
   },
   "source": [
    "### Ejercicio 10\n",
    "\n",
    "¡Vamos a hacerlo aún más flexible! Escribe otras dos funciones similares a la anterior y llámalas así:\n",
    "\n",
    "- `filter_age()` y\n",
    "- `filter_income()`\n",
    "\n",
    "En la primera, utilizaremos como filtro la edad con el valor por defecto de 0 mientras que en la segunda función, utilizaremos como filtro los ingresos con un valor por defecto también fijado en 0.\n",
    "\n",
    "Establece `clients` como valor por defecto en el parámetro `clients_list` para ambas funciones de la misma forma que hiciste en la tarea anterior.\n",
    "\n",
    "Ambas funciones deben filtrar los clientes que tienen valores mayores que el valor pasado como argumento en la llamada a la función.\n",
    "\n",
    "Llama a la función `filter_age()` y filtra la lista `clients`, extrayendo los datos de clientes que son mayores de 40 años. Guarda los resultados en la variable `filtered_age`.\n",
    "\n",
    "De la misma manera, llama a la función `filter_income()` y filtra la lista `clients`, extrayendo solo los clientes que tengan ingresos superiores a 250 000. Guarda los resultados en la variable `filtered_income`.\n",
    "\n",
    "Imprime las variables `filered_age` y `filtered_income` (ya en el precódigo)."
   ]
  },
  {
   "cell_type": "code",
   "execution_count": null,
   "metadata": {
    "id": "4wWreCZuB1pE"
   },
   "outputs": [],
   "source": [
    "clients = [\n",
    "    [32456, \"Jack Wilson\", 32, 150000, \"Healthcare\"],\n",
    "    [34591, \"Nina Brown\", 45, 250000, \"Telecom\"],\n",
    "    [37512, \"Alex Smith\", 39, 210000, \"IT\"],\n",
    "    [39591, \"Brian Perez\", 29, 340000, \"Transportation\"],\n",
    "    [45123, \"Sarah Lee\", 28, 120000, \"Marketing\"],\n",
    "    [47635, \"David Kim\", 36, 180000, \"Finance\"],\n",
    "    [49571, \"Samantha Chen\", 42, 220000, \"Retail\"],\n",
    "    [50391, \"Juan Rodriguez\", 31, 160000, \"Architecture\"],\n",
    "    [34556, \"Lucas Hernandez\", 37, 75000, \"Education\"],\n",
    "    [64291, \"Jessica Li\", 25, 125000, \"IT\"],\n",
    "    [74512, \"Emma Davis\", 47, 197000, \"Finance\"],\n",
    "    [83191, \"Sophia Perez\", 34, 225000, \"Transportation\"],\n",
    "    [91023, \"Liam Kim\", 29, 98000, \"Retail\"],\n",
    "    [96435, \"Ava Chen\", 31, 175000, \"Marketing\"],\n",
    "    [100571, \"Noah Rodriguez\", 28, 85000, \"Architecture\"],\n",
    "    [101321, \"Olivia Wilson\", 44, 310000, \"Telecom\"],\n",
    "    [104556, \"William Brown\", 38, 289000, \"Finance\"],\n",
    "    [105491, \"Emily Smith\", 29, 193000, \"Healthcare\"],\n",
    "    [107512, \"Michael Perez\", 53, 415000, \"Transportation\"]\n",
    "]\n",
    "\n",
    "def filter_age(age, clients_list):\n",
    "    result = []\n",
    "    for client in clients_list:\n",
    "        if age < client[2]:\n",
    "            result.append(client)\n",
    "    return result\n",
    "\n",
    "def filter_income(income, clients_list):\n",
    "    result = []\n",
    "    for client in clients_list:\n",
    "        if income < client[3]:\n",
    "            result.append(client)\n",
    "    return result\n",
    "\n",
    "# llama a las funciones mejoradas\n",
    "filtered_age = filter_age(40, clients)\n",
    "filtered_income = filter_income(250000, clients)\n",
    "\n",
    "# muestra el resultado\n",
    "print(filtered_age)\n",
    "print(filtered_income)"
   ]
  }
 ],
 "metadata": {
  "colab": {
   "provenance": []
  },
  "kernelspec": {
   "display_name": "Python 3 (ipykernel)",
   "language": "python",
   "name": "python3"
  },
  "language_info": {
   "codemirror_mode": {
    "name": "ipython",
    "version": 3
   },
   "file_extension": ".py",
   "mimetype": "text/x-python",
   "name": "python",
   "nbconvert_exporter": "python",
   "pygments_lexer": "ipython3",
   "version": "3.9.19"
  },
  "toc": {
   "base_numbering": 1,
   "nav_menu": {},
   "number_sections": true,
   "sideBar": true,
   "skip_h1_title": true,
   "title_cell": "Table of Contents",
   "title_sidebar": "Contents",
   "toc_cell": false,
   "toc_position": {},
   "toc_section_display": true,
   "toc_window_display": false
  }
 },
 "nbformat": 4,
 "nbformat_minor": 1
}
