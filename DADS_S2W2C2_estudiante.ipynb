{
 "cells": [
  {
   "cell_type": "markdown",
   "id": "c71358b2-fa20-44e0-a7d9-672856ab2c8a",
   "metadata": {},
   "source": [
    "# Sprint 2 - Week 2 - Class 2\n",
    "\n",
    "Diccionarios y funciones\n",
    "\n",
    "# Objetivo\n",
    "\n",
    "Comprender el uso de diccionarios y funciones mediante su aplicación a\n",
    "un caso práctico, para ejecutar scripts complejos.\n",
    "\n",
    "# Diccionarios\n",
    "\n",
    "## Ejemplo 1.1\n",
    "\n",
    "La empresa Aleph ha revisado la información que digitalizó y le menciona\n",
    "que si bien los datos de clientes son correctos, quisiera que se trabaje\n",
    "con una estructura de datos tipo diccionario para garantizar la\n",
    "inmutabilidad de los registros históricos.\n",
    "\n",
    "Visto esto, cree un diccionario que contenga la información de nombre y\n",
    "edad según lo descrito en la siguiente lista. Utilice el nombre como\n",
    "clave para su diccionario al que llamara `cli_edad_dicc`."
   ]
  },
  {
   "cell_type": "code",
   "execution_count": null,
   "id": "cde64423",
   "metadata": {},
   "outputs": [
    {
     "data": {
      "text/plain": [
       "{'Juan Araujo': 46, 'Pedro Paez': 46, 'Nicole Srolis': 45, 'Cayetana Araujo': 30, 'Diego Araujo': 72, 'Pilar Paez': 70}\n"
      ]
     },
     "metadata": {},
     "output_type": "display_data"
    }
   ],
   "source": [
    "cli_registro = [\n",
    "     ['Juan Araujo', 'M', 46],\n",
    "     ['Pedro Paez', 'M', 46],\n",
    "     ['Nicole Srolis', 'F', 45],\n",
    "     ['Cayetana Araujo', 'F', 30],\n",
    "     ['Diego Araujo', 'M', 72],\n",
    "     ['Pilar Paez', 'F', 70]\n",
    "]\n",
    "cli_edad_dicc={}\n",
    "cli_info_dicc={}\n",
    "for variable in cli_registro:     \n",
    "     cli_edad_dicc[variable[0]]=variable[2]\n",
    "\n",
    "lista=[]\n",
    "for variable in cli_registro:\n",
    "     cli_info_dicc\n",
    "     cli_edad_dicc[variable[0]]=variable[2]\n",
    "print(cli_edad_dicc)"
   ]
  },
  {
   "cell_type": "markdown",
   "id": "ddaf2883-d8e6-4616-a650-82be24cf89f8",
   "metadata": {},
   "source": [
    "## Ejemplo 1.2\n",
    "\n",
    "Para no perder la información ya levantada cree otro diccionario\n",
    "`cli_info_dicc` que contenga la información del sexo y la edad de cada\n",
    "cliente.\n",
    "\n",
    "Realice una consulta para conocer la información demográfica de Pilar\n",
    "Paez.\n",
    "\n",
    "## Ejemplo 1.3\n",
    "\n",
    "El director de ventas de la empresa le indica que olvidó pasarle\n",
    "información de un cliente adicional con la siguiente información:\n",
    "\n",
    "-   Nombre: Sofia\n",
    "-   Apellido: Pozo\n",
    "-   Edad: 29\n",
    "\n",
    "Ingrese este nuevo cliente en el diccionario.\n",
    "\n",
    "## Ejemplo 1.4\n",
    "\n",
    "Por otra parte, el director le menciona que el cliente Juan Araujo\n",
    "prefiere ser tratado con su segundo nombre “Sebastian”, por lo que le\n",
    "pide hacer este ajuste en el diccionario\n",
    "\n",
    "# Funciones\n",
    "\n",
    "## Ejemplo 2.1\n",
    "\n",
    "El director de ventas cree que es conveniente saber el año de nacimiento\n",
    "de cada uno de los clientes, puesto que de esa forma se podrá tener un\n",
    "mejor control del grupo etareo de clientes en el futuro.\n",
    "\n",
    "Cree una función que devuelva el año de nacimiento de cada cliente. No\n",
    "importa en qué año estemos, establezca el año actual como un parámetro\n",
    "adicional `y_actual` de su función.\n",
    "\n",
    "Mediante un bucle for aplique a cada edad de cada cliente la función\n",
    "construida y adicione la edad por el año de nacimiento.\n",
    "\n",
    "## Ejemplo 2.2\n",
    "\n",
    "Haz una función que tome un diccionario como el anterior y entregue una\n",
    "lista de listas de esta forma `[Sexo,Edad_Promedio]` (cada sublista debe\n",
    "tener un sexo y el promedio de edades para ese sexo)."
   ]
  }
 ],
 "metadata": {
  "kernelspec": {
   "display_name": "Python 3 (ipykernel)",
   "language": "python",
   "name": "python3",
   "path": "C:"
  },
  "language_info": {
   "codemirror_mode": {
    "name": "ipython",
    "version": "3"
   },
   "file_extension": ".py",
   "mimetype": "text/x-python",
   "name": "python",
   "nbconvert_exporter": "python",
   "pygments_lexer": "ipython3",
   "version": "3.10.6"
  }
 },
 "nbformat": 4,
 "nbformat_minor": 5
}
